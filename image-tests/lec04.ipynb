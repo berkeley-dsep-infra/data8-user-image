{
 "cells": [
  {
   "cell_type": "code",
   "execution_count": 1,
   "id": "0415f774-cd96-4309-879e-03a3fe784b31",
   "metadata": {},
   "outputs": [],
   "source": [
    "from datascience import *\n",
    "import numpy as np\n",
    "\n",
    "%matplotlib inline\n",
    "import matplotlib.pyplot as plots\n",
    "plots.style.use('fivethirtyeight')"
   ]
  },
  {
   "cell_type": "markdown",
   "id": "525b41da-2041-457a-b77e-924e8f5b81d1",
   "metadata": {},
   "source": [
    "## Review"
   ]
  },
  {
   "cell_type": "code",
   "execution_count": 2,
   "id": "822be408-a051-43cb-8e49-cb82e69c3e57",
   "metadata": {},
   "outputs": [
    {
     "data": {
      "text/html": [
       "<table border=\"1\" class=\"dataframe\">\n",
       "    <thead>\n",
       "        <tr>\n",
       "            <th>Flavor</th> <th>Color</th> <th>Price</th>\n",
       "        </tr>\n",
       "    </thead>\n",
       "    <tbody>\n",
       "        <tr>\n",
       "            <td>strawberry</td> <td>pink       </td> <td>3.55 </td>\n",
       "        </tr>\n",
       "        <tr>\n",
       "            <td>chocolate </td> <td>light brown</td> <td>4.75 </td>\n",
       "        </tr>\n",
       "        <tr>\n",
       "            <td>chocolate </td> <td>dark brown </td> <td>5.25 </td>\n",
       "        </tr>\n",
       "        <tr>\n",
       "            <td>strawberry</td> <td>pink       </td> <td>5.25 </td>\n",
       "        </tr>\n",
       "        <tr>\n",
       "            <td>chocolate </td> <td>dark brown </td> <td>5.25 </td>\n",
       "        </tr>\n",
       "        <tr>\n",
       "            <td>bubblegum </td> <td>pink       </td> <td>4.75 </td>\n",
       "        </tr>\n",
       "    </tbody>\n",
       "</table>"
      ],
      "text/plain": [
       "Flavor     | Color       | Price\n",
       "strawberry | pink        | 3.55\n",
       "chocolate  | light brown | 4.75\n",
       "chocolate  | dark brown  | 5.25\n",
       "strawberry | pink        | 5.25\n",
       "chocolate  | dark brown  | 5.25\n",
       "bubblegum  | pink        | 4.75"
      ]
     },
     "execution_count": 2,
     "metadata": {},
     "output_type": "execute_result"
    }
   ],
   "source": [
    "cones = Table.read_table('cones.csv')\n",
    "cones"
   ]
  },
  {
   "cell_type": "markdown",
   "id": "2eb7c7bf-a177-4cbc-80ed-96dc1eb863da",
   "metadata": {},
   "source": [
    "**Review Question [1 min]**: Which one of the following two lines of code fail?"
   ]
  },
  {
   "cell_type": "code",
   "execution_count": 3,
   "id": "73971496-27f8-469f-8783-910b648c4f01",
   "metadata": {},
   "outputs": [],
   "source": [
    "#cones.drop('Color').where('Color', 'pink')"
   ]
  },
  {
   "cell_type": "code",
   "execution_count": 4,
   "id": "98907b19-7711-4246-8395-3a8862878681",
   "metadata": {},
   "outputs": [
    {
     "data": {
      "text/html": [
       "<table border=\"1\" class=\"dataframe\">\n",
       "    <thead>\n",
       "        <tr>\n",
       "            <th>Flavor</th> <th>Price</th>\n",
       "        </tr>\n",
       "    </thead>\n",
       "    <tbody>\n",
       "        <tr>\n",
       "            <td>strawberry</td> <td>3.55 </td>\n",
       "        </tr>\n",
       "        <tr>\n",
       "            <td>strawberry</td> <td>5.25 </td>\n",
       "        </tr>\n",
       "        <tr>\n",
       "            <td>bubblegum </td> <td>4.75 </td>\n",
       "        </tr>\n",
       "    </tbody>\n",
       "</table>"
      ],
      "text/plain": [
       "Flavor     | Price\n",
       "strawberry | 3.55\n",
       "strawberry | 5.25\n",
       "bubblegum  | 4.75"
      ]
     },
     "execution_count": 4,
     "metadata": {},
     "output_type": "execute_result"
    }
   ],
   "source": [
    "cones.where('Color', 'pink').drop('Color')"
   ]
  },
  {
   "cell_type": "markdown",
   "id": "4c12ac9f-588b-4839-9c69-685c012e607c",
   "metadata": {},
   "source": [
    "## New material"
   ]
  },
  {
   "cell_type": "markdown",
   "id": "0a96199c-f9ba-4526-8870-de414f9377c6",
   "metadata": {},
   "source": [
    "### `int` and `float`"
   ]
  },
  {
   "cell_type": "code",
   "execution_count": 5,
   "id": "d6d3fe41-02af-43fb-9e4a-130ba7dcf68d",
   "metadata": {},
   "outputs": [
    {
     "data": {
      "text/plain": [
       "4"
      ]
     },
     "execution_count": 5,
     "metadata": {},
     "output_type": "execute_result"
    }
   ],
   "source": [
    "1 + 3 "
   ]
  },
  {
   "cell_type": "code",
   "execution_count": 6,
   "id": "ce494816-de53-46ac-8bf3-c6d2d4c6ae3d",
   "metadata": {},
   "outputs": [
    {
     "data": {
      "text/plain": [
       "1098764630"
      ]
     },
     "execution_count": 6,
     "metadata": {},
     "output_type": "execute_result"
    }
   ],
   "source": [
    "1234567 * 890"
   ]
  },
  {
   "cell_type": "code",
   "execution_count": 7,
   "id": "28cb59a2-41f9-4414-a130-fb6ba5d03bf1",
   "metadata": {},
   "outputs": [
    {
     "data": {
      "text/plain": [
       "67653969256331495649068283811346298491907584134058827077138045699295881910674491882264924512105825607973877575534562149601"
      ]
     },
     "execution_count": 7,
     "metadata": {},
     "output_type": "execute_result"
    }
   ],
   "source": [
    "1234567 ** 20"
   ]
  },
  {
   "cell_type": "markdown",
   "id": "93636245-29a7-4ac0-9a18-882b44dc181b",
   "metadata": {},
   "source": [
    "____"
   ]
  },
  {
   "cell_type": "code",
   "execution_count": 8,
   "id": "3efc462f-2f7d-4c74-b9e8-2ec19a8a7400",
   "metadata": {},
   "outputs": [
    {
     "data": {
      "text/plain": [
       "2024"
      ]
     },
     "execution_count": 8,
     "metadata": {},
     "output_type": "execute_result"
    }
   ],
   "source": [
    "2024"
   ]
  },
  {
   "cell_type": "code",
   "execution_count": 9,
   "id": "264a6249-c266-425f-9acd-0740c8350906",
   "metadata": {},
   "outputs": [
    {
     "data": {
      "text/plain": [
       "2024"
      ]
     },
     "execution_count": 9,
     "metadata": {},
     "output_type": "execute_result"
    }
   ],
   "source": [
    "1012 * 2"
   ]
  },
  {
   "cell_type": "code",
   "execution_count": 10,
   "id": "bdffd470-2712-448e-ad8e-3b1fee8b994a",
   "metadata": {},
   "outputs": [
    {
     "data": {
      "text/plain": [
       "2024.0"
      ]
     },
     "execution_count": 10,
     "metadata": {},
     "output_type": "execute_result"
    }
   ],
   "source": [
    "4048/2"
   ]
  },
  {
   "cell_type": "markdown",
   "id": "2a1c90cb-045a-470d-8d37-d52146675723",
   "metadata": {},
   "source": [
    "_______"
   ]
  },
  {
   "cell_type": "markdown",
   "id": "dfe3ce6f-a51d-424b-a1d3-5226abacc185",
   "metadata": {},
   "source": [
    "#### `floats` have some limitations"
   ]
  },
  {
   "cell_type": "code",
   "execution_count": 11,
   "id": "ede6082e-4131-4b65-ac47-d56c934323b4",
   "metadata": {},
   "outputs": [
    {
     "data": {
      "text/plain": [
       "3.3333333333333335"
      ]
     },
     "execution_count": 11,
     "metadata": {},
     "output_type": "execute_result"
    }
   ],
   "source": [
    "10/3"
   ]
  },
  {
   "cell_type": "code",
   "execution_count": 12,
   "id": "dc2cb67e-1121-473f-9b56-6248d05026a9",
   "metadata": {},
   "outputs": [
    {
     "data": {
      "text/plain": [
       "75892745.21548925"
      ]
     },
     "execution_count": 12,
     "metadata": {},
     "output_type": "execute_result"
    }
   ],
   "source": [
    "75892745.215489247589274985712"
   ]
  },
  {
   "cell_type": "code",
   "execution_count": 13,
   "id": "44c981b8-7f1d-4964-a886-2ca3edae6078",
   "metadata": {},
   "outputs": [
    {
     "data": {
      "text/plain": [
       "0.0"
      ]
     },
     "execution_count": 13,
     "metadata": {},
     "output_type": "execute_result"
    }
   ],
   "source": [
    "75892745.215489247589274985712 - 75892745.21548925"
   ]
  },
  {
   "cell_type": "markdown",
   "id": "d50c3f30-8ec8-4086-91f0-a6d9ceaa8c4f",
   "metadata": {},
   "source": [
    "____"
   ]
  },
  {
   "cell_type": "code",
   "execution_count": 14,
   "id": "31e164d9-95c7-44eb-8c52-735bc7ca59e5",
   "metadata": {},
   "outputs": [
    {
     "data": {
      "text/plain": [
       "3.605551275463989"
      ]
     },
     "execution_count": 14,
     "metadata": {},
     "output_type": "execute_result"
    }
   ],
   "source": [
    "(13 ** 0.5) "
   ]
  },
  {
   "cell_type": "code",
   "execution_count": 15,
   "id": "bb3e03f4-cfe7-48f3-a7a2-e5f0989ebc84",
   "metadata": {},
   "outputs": [
    {
     "data": {
      "text/plain": [
       "12.999999999999998"
      ]
     },
     "execution_count": 15,
     "metadata": {},
     "output_type": "execute_result"
    }
   ],
   "source": [
    "(13 ** 0.5) ** 2"
   ]
  },
  {
   "cell_type": "markdown",
   "id": "11489e70-a2de-407b-85bc-d68a0628c19d",
   "metadata": {},
   "source": [
    "____"
   ]
  },
  {
   "cell_type": "code",
   "execution_count": 16,
   "id": "85600ed8-8a1a-413e-94bb-b2e083750ce0",
   "metadata": {},
   "outputs": [
    {
     "data": {
      "text/plain": [
       "6.765396925633149e+121"
      ]
     },
     "execution_count": 16,
     "metadata": {},
     "output_type": "execute_result"
    }
   ],
   "source": [
    "(1234567 ** 20)/1"
   ]
  },
  {
   "cell_type": "markdown",
   "id": "5cd918a5-ef9a-47a7-9ef5-727cbe0ce802",
   "metadata": {},
   "source": [
    "### Strings are snippets of text"
   ]
  },
  {
   "cell_type": "code",
   "execution_count": 17,
   "id": "5ebb3423-e9a7-4bc5-93bf-dd3f31cc2914",
   "metadata": {},
   "outputs": [
    {
     "data": {
      "text/plain": [
       "'Flavor'"
      ]
     },
     "execution_count": 17,
     "metadata": {},
     "output_type": "execute_result"
    }
   ],
   "source": [
    "'Flavor'"
   ]
  },
  {
   "cell_type": "code",
   "execution_count": 18,
   "id": "5e6ee53d-68ce-4684-bd0f-2ea53921e963",
   "metadata": {},
   "outputs": [],
   "source": [
    "#Flavor"
   ]
  },
  {
   "cell_type": "code",
   "execution_count": 19,
   "id": "c33ca77b-93fa-448d-9510-ea135da52a92",
   "metadata": {},
   "outputs": [],
   "source": [
    "#'I wouldn't ever ignore my homework'"
   ]
  },
  {
   "cell_type": "code",
   "execution_count": 20,
   "id": "8104f505-dae9-4ea0-a92e-c24f1b195939",
   "metadata": {},
   "outputs": [
    {
     "data": {
      "text/plain": [
       "\"I wouldn't ever ignore my homework\""
      ]
     },
     "execution_count": 20,
     "metadata": {},
     "output_type": "execute_result"
    }
   ],
   "source": [
    "\"I wouldn't ever ignore my homework\""
   ]
  },
  {
   "cell_type": "markdown",
   "id": "d1bb96a7-94e2-4a77-bc59-474384c6d2bb",
   "metadata": {},
   "source": [
    "________"
   ]
  },
  {
   "cell_type": "code",
   "execution_count": 21,
   "id": "07c31e97-173f-4db7-8605-e62b8520087a",
   "metadata": {},
   "outputs": [
    {
     "data": {
      "text/plain": [
       "\"Iwouldn't ever ignore my homework\""
      ]
     },
     "execution_count": 21,
     "metadata": {},
     "output_type": "execute_result"
    }
   ],
   "source": [
    "\"I\" + \"wouldn't ever ignore my homework\""
   ]
  },
  {
   "cell_type": "code",
   "execution_count": 22,
   "id": "ca9c4206-f490-4525-8ee5-7bad40c38823",
   "metadata": {},
   "outputs": [
    {
     "data": {
      "text/plain": [
       "\"I wouldn't ever ignore my homework\""
      ]
     },
     "execution_count": 22,
     "metadata": {},
     "output_type": "execute_result"
    }
   ],
   "source": [
    "\"I\" + \" wouldn't ever ignore my homework\""
   ]
  },
  {
   "cell_type": "code",
   "execution_count": 23,
   "id": "cc918015-04de-4fdf-97a7-1b48d1a9e677",
   "metadata": {},
   "outputs": [
    {
     "data": {
      "text/plain": [
       "'Ben 10'"
      ]
     },
     "execution_count": 23,
     "metadata": {},
     "output_type": "execute_result"
    }
   ],
   "source": [
    "\"Ben\" + \" 10\""
   ]
  },
  {
   "cell_type": "code",
   "execution_count": 24,
   "id": "57181106-874b-4a2c-9d54-0db81475005e",
   "metadata": {},
   "outputs": [],
   "source": [
    "#\"Ben\" + 10"
   ]
  },
  {
   "cell_type": "code",
   "execution_count": 25,
   "id": "460bbb1c-3295-4195-99ac-05ba781127c1",
   "metadata": {},
   "outputs": [
    {
     "data": {
      "text/plain": [
       "'hahahahahahahahahahahahahahahahahahahahahahahahahahahahahahahahahahahahahahahahahahahahahahahahahahahahahahahahahahahahahahahahahahahahahahahahahahahahahahahahahahahahahahahahahahahahahahahahahahahaha'"
      ]
     },
     "execution_count": 25,
     "metadata": {},
     "output_type": "execute_result"
    }
   ],
   "source": [
    "'ha' * 100"
   ]
  },
  {
   "cell_type": "markdown",
   "id": "4745a500-ae8f-4296-ba28-83eff2e69c4e",
   "metadata": {},
   "source": [
    "### You can convert between types"
   ]
  },
  {
   "cell_type": "code",
   "execution_count": 26,
   "id": "6e68b6e3-2145-4cb2-9055-29d1ecbb812c",
   "metadata": {},
   "outputs": [
    {
     "data": {
      "text/plain": [
       "3"
      ]
     },
     "execution_count": 26,
     "metadata": {},
     "output_type": "execute_result"
    }
   ],
   "source": [
    "int('3')"
   ]
  },
  {
   "cell_type": "code",
   "execution_count": 27,
   "id": "9d9eb20b-f2a8-43da-98c1-c46c63a1203b",
   "metadata": {},
   "outputs": [
    {
     "data": {
      "text/plain": [
       "3"
      ]
     },
     "execution_count": 27,
     "metadata": {},
     "output_type": "execute_result"
    }
   ],
   "source": [
    "int(float('3.0'))"
   ]
  },
  {
   "cell_type": "code",
   "execution_count": 28,
   "id": "ecf80134-573f-4491-b4e9-03c4a119895a",
   "metadata": {},
   "outputs": [
    {
     "data": {
      "text/plain": [
       "3.0"
      ]
     },
     "execution_count": 28,
     "metadata": {},
     "output_type": "execute_result"
    }
   ],
   "source": [
    "float(int('3'))"
   ]
  },
  {
   "cell_type": "code",
   "execution_count": 29,
   "id": "cb88a090-2501-4af0-9319-63bf5d6ca6f4",
   "metadata": {},
   "outputs": [
    {
     "data": {
      "text/plain": [
       "'10'"
      ]
     },
     "execution_count": 29,
     "metadata": {},
     "output_type": "execute_result"
    }
   ],
   "source": [
    "str(10)"
   ]
  },
  {
   "cell_type": "code",
   "execution_count": 30,
   "id": "27736552-3ad9-42a9-800f-600b99749a26",
   "metadata": {},
   "outputs": [
    {
     "data": {
      "text/plain": [
       "'Ben 10'"
      ]
     },
     "execution_count": 30,
     "metadata": {},
     "output_type": "execute_result"
    }
   ],
   "source": [
    "'Ben ' + str(10)"
   ]
  },
  {
   "cell_type": "code",
   "execution_count": 31,
   "id": "35569633-ae1d-4a1b-9437-770060f7094b",
   "metadata": {},
   "outputs": [
    {
     "data": {
      "text/plain": [
       "10.0"
      ]
     },
     "execution_count": 31,
     "metadata": {},
     "output_type": "execute_result"
    }
   ],
   "source": [
    "2 + float(8)"
   ]
  },
  {
   "cell_type": "markdown",
   "id": "9127a29f-f106-48bb-9caa-a392e07d37c7",
   "metadata": {},
   "source": [
    "### ... but be careful!"
   ]
  },
  {
   "cell_type": "code",
   "execution_count": 32,
   "id": "ee6a870c-01bf-453d-83e2-edadbebfcc95",
   "metadata": {},
   "outputs": [],
   "source": [
    "#float('one point two')"
   ]
  },
  {
   "cell_type": "code",
   "execution_count": 33,
   "id": "3b40b406-c57b-4b31-9b55-1a531e746447",
   "metadata": {},
   "outputs": [
    {
     "data": {
      "text/plain": [
       "1"
      ]
     },
     "execution_count": 33,
     "metadata": {},
     "output_type": "execute_result"
    }
   ],
   "source": [
    "int(1.2)"
   ]
  },
  {
   "cell_type": "code",
   "execution_count": 34,
   "id": "4b77615d-c777-4cce-ac90-2b3913519d7d",
   "metadata": {},
   "outputs": [
    {
     "data": {
      "text/plain": [
       "1"
      ]
     },
     "execution_count": 34,
     "metadata": {},
     "output_type": "execute_result"
    }
   ],
   "source": [
    "int(1.23)"
   ]
  },
  {
   "cell_type": "code",
   "execution_count": 35,
   "id": "8bb37253-e426-4a5d-89ed-42c81473cda1",
   "metadata": {},
   "outputs": [
    {
     "data": {
      "text/plain": [
       "1.2"
      ]
     },
     "execution_count": 35,
     "metadata": {},
     "output_type": "execute_result"
    }
   ],
   "source": [
    "round(1.23, ndigits = 1)"
   ]
  },
  {
   "cell_type": "code",
   "execution_count": 36,
   "id": "4d95e3e5-cf07-4c4b-ab7e-46ff104c649c",
   "metadata": {},
   "outputs": [
    {
     "data": {
      "text/plain": [
       "1"
      ]
     },
     "execution_count": 36,
     "metadata": {},
     "output_type": "execute_result"
    }
   ],
   "source": [
    "int(1.6)"
   ]
  },
  {
   "cell_type": "code",
   "execution_count": 37,
   "id": "29a790e1-5400-4ec4-95ab-e4b72ff8f21b",
   "metadata": {},
   "outputs": [
    {
     "data": {
      "text/plain": [
       "2"
      ]
     },
     "execution_count": 37,
     "metadata": {},
     "output_type": "execute_result"
    }
   ],
   "source": [
    "round(1.6)"
   ]
  },
  {
   "cell_type": "markdown",
   "id": "38cb5198-0152-4bba-9ca4-7a594e2bf882",
   "metadata": {},
   "source": [
    "_____"
   ]
  },
  {
   "cell_type": "markdown",
   "id": "c34770e0-9ca0-49cd-8b83-22ff2f314432",
   "metadata": {},
   "source": [
    "### Every value has a **data type**"
   ]
  },
  {
   "cell_type": "code",
   "execution_count": 38,
   "id": "f2d3377d-41f2-4d6d-87eb-c662d3af1e56",
   "metadata": {},
   "outputs": [
    {
     "data": {
      "text/plain": [
       "int"
      ]
     },
     "execution_count": 38,
     "metadata": {},
     "output_type": "execute_result"
    }
   ],
   "source": [
    "type(10)"
   ]
  },
  {
   "cell_type": "code",
   "execution_count": 39,
   "id": "0c9e9cc5-54b4-4f91-b1ec-28940db61aa8",
   "metadata": {},
   "outputs": [],
   "source": [
    "a = 10"
   ]
  },
  {
   "cell_type": "code",
   "execution_count": 40,
   "id": "0259b2fc-491d-4ab1-a318-9cfdbb7926d6",
   "metadata": {},
   "outputs": [
    {
     "data": {
      "text/plain": [
       "int"
      ]
     },
     "execution_count": 40,
     "metadata": {},
     "output_type": "execute_result"
    }
   ],
   "source": [
    "type(a)"
   ]
  },
  {
   "cell_type": "code",
   "execution_count": 41,
   "id": "8e4d071d-64bb-4973-a9aa-06ab7dfa6804",
   "metadata": {},
   "outputs": [
    {
     "data": {
      "text/plain": [
       "int"
      ]
     },
     "execution_count": 41,
     "metadata": {},
     "output_type": "execute_result"
    }
   ],
   "source": [
    "type(1012*2)"
   ]
  },
  {
   "cell_type": "code",
   "execution_count": 42,
   "id": "148307dc-b30a-4450-b1d6-c15ec3230f38",
   "metadata": {},
   "outputs": [
    {
     "data": {
      "text/plain": [
       "float"
      ]
     },
     "execution_count": 42,
     "metadata": {},
     "output_type": "execute_result"
    }
   ],
   "source": [
    "type(4048/2)"
   ]
  },
  {
   "cell_type": "code",
   "execution_count": 43,
   "id": "4f7c0a3b-ecb4-4961-b926-380f128aaad2",
   "metadata": {},
   "outputs": [
    {
     "data": {
      "text/plain": [
       "str"
      ]
     },
     "execution_count": 43,
     "metadata": {},
     "output_type": "execute_result"
    }
   ],
   "source": [
    "type('Ben')"
   ]
  },
  {
   "cell_type": "code",
   "execution_count": 44,
   "id": "ac07898f-8933-4954-8819-c04a48baedb1",
   "metadata": {},
   "outputs": [
    {
     "data": {
      "text/plain": [
       "str"
      ]
     },
     "execution_count": 44,
     "metadata": {},
     "output_type": "execute_result"
    }
   ],
   "source": [
    "type('Ben ' + str(10))"
   ]
  },
  {
   "cell_type": "code",
   "execution_count": 45,
   "id": "041d22e8-1bd9-42f2-aa13-2f83e455be72",
   "metadata": {},
   "outputs": [
    {
     "data": {
      "text/plain": [
       "builtin_function_or_method"
      ]
     },
     "execution_count": 45,
     "metadata": {},
     "output_type": "execute_result"
    }
   ],
   "source": [
    "type(abs)"
   ]
  },
  {
   "cell_type": "markdown",
   "id": "86abfd28-d2ae-4462-a991-9109e764ce69",
   "metadata": {},
   "source": [
    "_____"
   ]
  },
  {
   "cell_type": "markdown",
   "id": "19eab142-b7e3-4ae1-b6b5-c5c9ffc19d6c",
   "metadata": {},
   "source": [
    "#### This includes tables and columns of tables!"
   ]
  },
  {
   "cell_type": "code",
   "execution_count": 46,
   "id": "aa8e01f9-3e3f-489f-b6a5-93e08754ccbf",
   "metadata": {},
   "outputs": [
    {
     "data": {
      "text/plain": [
       "datascience.tables.Table"
      ]
     },
     "execution_count": 46,
     "metadata": {},
     "output_type": "execute_result"
    }
   ],
   "source": [
    "nba = Table.read_table('nba_salaries.csv')\n",
    "type(nba)"
   ]
  },
  {
   "cell_type": "code",
   "execution_count": 47,
   "id": "73e40edd-cf79-480f-a00b-fe370d1b740b",
   "metadata": {},
   "outputs": [
    {
     "data": {
      "text/html": [
       "<table border=\"1\" class=\"dataframe\">\n",
       "    <thead>\n",
       "        <tr>\n",
       "            <th>rank</th> <th>name</th> <th>position</th> <th>team</th> <th>salary</th> <th>season</th>\n",
       "        </tr>\n",
       "    </thead>\n",
       "    <tbody>\n",
       "        <tr>\n",
       "            <td>1   </td> <td>Shaquille O'Neal</td> <td>C       </td> <td>Los Angeles Lakers    </td> <td>17142000</td> <td>2000  </td>\n",
       "        </tr>\n",
       "        <tr>\n",
       "            <td>2   </td> <td>Kevin Garnett   </td> <td>PF      </td> <td>Minnesota Timberwolves</td> <td>16806000</td> <td>2000  </td>\n",
       "        </tr>\n",
       "        <tr>\n",
       "            <td>3   </td> <td>Alonzo Mourning </td> <td>C       </td> <td>Miami Heat            </td> <td>15004000</td> <td>2000  </td>\n",
       "        </tr>\n",
       "        <tr>\n",
       "            <td>4   </td> <td>Juwan Howard    </td> <td>PF      </td> <td>Washington Wizards    </td> <td>15000000</td> <td>2000  </td>\n",
       "        </tr>\n",
       "        <tr>\n",
       "            <td>5   </td> <td>Scottie Pippen  </td> <td>SF      </td> <td>Portland Trail Blazers</td> <td>14795000</td> <td>2000  </td>\n",
       "        </tr>\n",
       "        <tr>\n",
       "            <td>6   </td> <td>Karl Malone     </td> <td>PF      </td> <td>Utah Jazz             </td> <td>14000000</td> <td>2000  </td>\n",
       "        </tr>\n",
       "    </tbody>\n",
       "</table>\n",
       "<p>... (9450 rows omitted)</p>"
      ],
      "text/plain": [
       "<IPython.core.display.HTML object>"
      ]
     },
     "metadata": {},
     "output_type": "display_data"
    }
   ],
   "source": [
    "nba.show(6)"
   ]
  },
  {
   "cell_type": "code",
   "execution_count": 48,
   "id": "4fcfcba8-2474-4c2b-9020-eb1025ceb138",
   "metadata": {},
   "outputs": [
    {
     "data": {
      "text/html": [
       "<table border=\"1\" class=\"dataframe\">\n",
       "    <thead>\n",
       "        <tr>\n",
       "            <th>rank</th> <th>name</th> <th>position</th> <th>team</th> <th>salary</th> <th>season</th>\n",
       "        </tr>\n",
       "    </thead>\n",
       "    <tbody>\n",
       "        <tr>\n",
       "            <td>1   </td> <td>Stephen Curry    </td> <td>PG      </td> <td>Golden State Warriors</td> <td>40231758</td> <td>2020  </td>\n",
       "        </tr>\n",
       "        <tr>\n",
       "            <td>2   </td> <td>Chris Paul       </td> <td>PG      </td> <td>Oklahoma City Thunder</td> <td>38506482</td> <td>2020  </td>\n",
       "        </tr>\n",
       "        <tr>\n",
       "            <td>3   </td> <td>Russell Westbrook</td> <td>PG      </td> <td>Houston Rockets      </td> <td>38506482</td> <td>2020  </td>\n",
       "        </tr>\n",
       "        <tr>\n",
       "            <td>4   </td> <td>John Wall        </td> <td>PG      </td> <td>Washington Wizards   </td> <td>38199000</td> <td>2020  </td>\n",
       "        </tr>\n",
       "        <tr>\n",
       "            <td>5   </td> <td>Kevin Durant     </td> <td>SF      </td> <td>Brooklyn Nets        </td> <td>38199000</td> <td>2020  </td>\n",
       "        </tr>\n",
       "        <tr>\n",
       "            <td>6   </td> <td>James Harden     </td> <td>SG      </td> <td>Houston Rockets      </td> <td>38199000</td> <td>2020  </td>\n",
       "        </tr>\n",
       "    </tbody>\n",
       "</table>\n",
       "<p>... (9450 rows omitted)</p>"
      ],
      "text/plain": [
       "<IPython.core.display.HTML object>"
      ]
     },
     "metadata": {},
     "output_type": "display_data"
    }
   ],
   "source": [
    "nba.sort('season', descending=True).show(6)"
   ]
  },
  {
   "cell_type": "code",
   "execution_count": 49,
   "id": "aacfe5d3-d9ac-455c-b185-0bd972118a3b",
   "metadata": {},
   "outputs": [
    {
     "data": {
      "text/html": [
       "<table border=\"1\" class=\"dataframe\">\n",
       "    <thead>\n",
       "        <tr>\n",
       "            <th>salary</th>\n",
       "        </tr>\n",
       "    </thead>\n",
       "    <tbody>\n",
       "        <tr>\n",
       "            <td>17142000</td>\n",
       "        </tr>\n",
       "        <tr>\n",
       "            <td>16806000</td>\n",
       "        </tr>\n",
       "        <tr>\n",
       "            <td>15004000</td>\n",
       "        </tr>\n",
       "        <tr>\n",
       "            <td>15000000</td>\n",
       "        </tr>\n",
       "        <tr>\n",
       "            <td>14795000</td>\n",
       "        </tr>\n",
       "        <tr>\n",
       "            <td>14000000</td>\n",
       "        </tr>\n",
       "        <tr>\n",
       "            <td>11910000</td>\n",
       "        </tr>\n",
       "        <tr>\n",
       "            <td>11020000</td>\n",
       "        </tr>\n",
       "        <tr>\n",
       "            <td>10800000</td>\n",
       "        </tr>\n",
       "        <tr>\n",
       "            <td>10780000</td>\n",
       "        </tr>\n",
       "    </tbody>\n",
       "</table>\n",
       "<p>... (9446 rows omitted)</p>"
      ],
      "text/plain": [
       "salary\n",
       "17142000\n",
       "16806000\n",
       "15004000\n",
       "15000000\n",
       "14795000\n",
       "14000000\n",
       "11910000\n",
       "11020000\n",
       "10800000\n",
       "10780000\n",
       "... (9446 rows omitted)"
      ]
     },
     "execution_count": 49,
     "metadata": {},
     "output_type": "execute_result"
    }
   ],
   "source": [
    "nba.select('salary')"
   ]
  },
  {
   "cell_type": "code",
   "execution_count": 50,
   "id": "1e25f609-6691-4027-a99a-178e586dd231",
   "metadata": {},
   "outputs": [
    {
     "data": {
      "text/plain": [
       "datascience.tables.Table"
      ]
     },
     "execution_count": 50,
     "metadata": {},
     "output_type": "execute_result"
    }
   ],
   "source": [
    "type(nba.select('salary'))"
   ]
  },
  {
   "cell_type": "code",
   "execution_count": 51,
   "id": "1fc64e20-9b19-433b-9a10-3c7a2e0f70f2",
   "metadata": {},
   "outputs": [
    {
     "data": {
      "text/plain": [
       "array([17142000, 16806000, 15004000, ...,   183115,   183115,   155647])"
      ]
     },
     "execution_count": 51,
     "metadata": {},
     "output_type": "execute_result"
    }
   ],
   "source": [
    "nba.column('salary')"
   ]
  },
  {
   "cell_type": "code",
   "execution_count": 52,
   "id": "9a754d49-7984-45c4-b283-4a67c12cefc3",
   "metadata": {},
   "outputs": [
    {
     "data": {
      "text/plain": [
       "numpy.ndarray"
      ]
     },
     "execution_count": 52,
     "metadata": {},
     "output_type": "execute_result"
    }
   ],
   "source": [
    "type(nba.column('salary'))"
   ]
  },
  {
   "cell_type": "markdown",
   "id": "42e348df-da18-446b-a41e-fa5dcf6df073",
   "metadata": {},
   "source": [
    "#### **Arrays** are sequences of values"
   ]
  },
  {
   "cell_type": "code",
   "execution_count": 53,
   "id": "851bef34-d359-4346-bc17-ff49b8cb92d3",
   "metadata": {},
   "outputs": [],
   "source": [
    "my_array = make_array(1, 2, 3, 4)"
   ]
  },
  {
   "cell_type": "code",
   "execution_count": 54,
   "id": "da8818f8-1bb4-459c-b615-2008c1bd2a1a",
   "metadata": {},
   "outputs": [
    {
     "data": {
      "text/plain": [
       "array([1, 2, 3, 4])"
      ]
     },
     "execution_count": 54,
     "metadata": {},
     "output_type": "execute_result"
    }
   ],
   "source": [
    "my_array"
   ]
  },
  {
   "cell_type": "code",
   "execution_count": 55,
   "id": "a80f5de0-2b9f-4d71-8f0e-7a454b0dcbf7",
   "metadata": {},
   "outputs": [
    {
     "data": {
      "text/plain": [
       "numpy.ndarray"
      ]
     },
     "execution_count": 55,
     "metadata": {},
     "output_type": "execute_result"
    }
   ],
   "source": [
    "type(my_array)"
   ]
  },
  {
   "cell_type": "code",
   "execution_count": 56,
   "id": "d2cfc673-c429-455e-bda7-e93b1a44a9b6",
   "metadata": {},
   "outputs": [
    {
     "data": {
      "text/plain": [
       "2"
      ]
     },
     "execution_count": 56,
     "metadata": {},
     "output_type": "execute_result"
    }
   ],
   "source": [
    "my_array.item(1)"
   ]
  },
  {
   "cell_type": "code",
   "execution_count": 57,
   "id": "02b72942-599a-4b5e-b4a0-7571d9545bfd",
   "metadata": {},
   "outputs": [
    {
     "data": {
      "text/plain": [
       "1"
      ]
     },
     "execution_count": 57,
     "metadata": {},
     "output_type": "execute_result"
    }
   ],
   "source": [
    "my_array.item(0)"
   ]
  },
  {
   "cell_type": "code",
   "execution_count": 58,
   "id": "60c17c98-437f-4c75-aa6f-5702f0ac4df7",
   "metadata": {},
   "outputs": [],
   "source": [
    "#my_array.item(4)"
   ]
  },
  {
   "cell_type": "markdown",
   "id": "496bd730-dfc7-41fd-9293-ea5e7feaa522",
   "metadata": {},
   "source": [
    "____"
   ]
  },
  {
   "cell_type": "code",
   "execution_count": 59,
   "id": "41bbb49c-3f1a-4356-8ee3-c92ef553e882",
   "metadata": {},
   "outputs": [
    {
     "data": {
      "text/plain": [
       "array([3, 4, 5, 6])"
      ]
     },
     "execution_count": 59,
     "metadata": {},
     "output_type": "execute_result"
    }
   ],
   "source": [
    "my_array + 2"
   ]
  },
  {
   "cell_type": "code",
   "execution_count": 60,
   "id": "3e306d5e-40dd-4e93-8047-7b3757eeb9f6",
   "metadata": {},
   "outputs": [
    {
     "data": {
      "text/plain": [
       "array([2, 4, 6, 8])"
      ]
     },
     "execution_count": 60,
     "metadata": {},
     "output_type": "execute_result"
    }
   ],
   "source": [
    "my_array * 2"
   ]
  },
  {
   "cell_type": "code",
   "execution_count": 61,
   "id": "897667ee-2b18-496a-a6c2-0f146157543e",
   "metadata": {},
   "outputs": [
    {
     "data": {
      "text/plain": [
       "array([ 1,  4,  9, 16])"
      ]
     },
     "execution_count": 61,
     "metadata": {},
     "output_type": "execute_result"
    }
   ],
   "source": [
    "my_array ** 2"
   ]
  },
  {
   "cell_type": "code",
   "execution_count": 62,
   "id": "334a25ee-f2d2-4d61-aec5-09f58862ada0",
   "metadata": {},
   "outputs": [],
   "source": [
    "my_array_2 = make_array(4,5,6,7)"
   ]
  },
  {
   "cell_type": "code",
   "execution_count": 63,
   "id": "c12b3809-251d-4565-ba21-ebafe235f93b",
   "metadata": {},
   "outputs": [
    {
     "data": {
      "text/plain": [
       "array([ 5,  7,  9, 11])"
      ]
     },
     "execution_count": 63,
     "metadata": {},
     "output_type": "execute_result"
    }
   ],
   "source": [
    "my_array + my_array_2"
   ]
  },
  {
   "cell_type": "code",
   "execution_count": 64,
   "id": "6157adb4-ef46-4a7b-9ffd-a75d8824c314",
   "metadata": {},
   "outputs": [],
   "source": [
    "#my_array + make_array(8,9,10)"
   ]
  },
  {
   "cell_type": "code",
   "execution_count": 65,
   "id": "66f4f544-4633-4c24-a0fd-5593e8942737",
   "metadata": {},
   "outputs": [],
   "source": [
    "#my_array * make_array(8,9,10)"
   ]
  },
  {
   "cell_type": "markdown",
   "id": "6e1067d4-2c59-47ba-a304-f28b19eaf411",
   "metadata": {},
   "source": [
    "#### Functions on arrays"
   ]
  },
  {
   "cell_type": "code",
   "execution_count": 66,
   "id": "2422119c-7e16-4ed3-99e2-411e0882fc08",
   "metadata": {},
   "outputs": [],
   "source": [
    "my_array = make_array(1, 2, 3, 4)"
   ]
  },
  {
   "cell_type": "code",
   "execution_count": 67,
   "id": "474ea27d-81ea-4560-8ddf-547e5297beef",
   "metadata": {},
   "outputs": [
    {
     "data": {
      "text/plain": [
       "10"
      ]
     },
     "execution_count": 67,
     "metadata": {},
     "output_type": "execute_result"
    }
   ],
   "source": [
    "sum(my_array)"
   ]
  },
  {
   "cell_type": "code",
   "execution_count": 68,
   "id": "2feea3b8-b869-410b-8814-580c040f5204",
   "metadata": {},
   "outputs": [
    {
     "data": {
      "text/plain": [
       "2.5"
      ]
     },
     "execution_count": 68,
     "metadata": {},
     "output_type": "execute_result"
    }
   ],
   "source": [
    "np.average(my_array)"
   ]
  },
  {
   "cell_type": "code",
   "execution_count": 69,
   "id": "56ef704a-85a3-46ce-b416-2bfdab8c2863",
   "metadata": {},
   "outputs": [
    {
     "data": {
      "text/plain": [
       "4"
      ]
     },
     "execution_count": 69,
     "metadata": {},
     "output_type": "execute_result"
    }
   ],
   "source": [
    "len(my_array)"
   ]
  },
  {
   "cell_type": "markdown",
   "id": "94fb1369-3ac6-4746-b7d7-2dd3da0b4e36",
   "metadata": {},
   "source": [
    "##### Remember that a column of a table is an array!"
   ]
  },
  {
   "cell_type": "code",
   "execution_count": 70,
   "id": "ad5c5993-7b78-4edb-b07c-60203e971f2a",
   "metadata": {},
   "outputs": [
    {
     "data": {
      "text/plain": [
       "4486115.181154822"
      ]
     },
     "execution_count": 70,
     "metadata": {},
     "output_type": "execute_result"
    }
   ],
   "source": [
    "np.average(nba.column('salary'))"
   ]
  },
  {
   "cell_type": "markdown",
   "id": "80c392ce-cd29-4d7f-b095-28c5987566f4",
   "metadata": {},
   "source": [
    "_____"
   ]
  },
  {
   "cell_type": "markdown",
   "id": "d80facf0-3025-4eec-96de-cecf1e40d87f",
   "metadata": {},
   "source": [
    "### Ranges are sequences of consecutive numbers"
   ]
  },
  {
   "cell_type": "code",
   "execution_count": 71,
   "id": "4ba6982c-1910-47d9-9456-84e51401ae82",
   "metadata": {},
   "outputs": [
    {
     "data": {
      "text/plain": [
       "array([0, 1, 2, 3, 4, 5, 6])"
      ]
     },
     "execution_count": 71,
     "metadata": {},
     "output_type": "execute_result"
    }
   ],
   "source": [
    "make_array(0,1,2,3,4,5,6)"
   ]
  },
  {
   "cell_type": "code",
   "execution_count": 72,
   "id": "bfce7362-db77-4b01-ba26-119f4165d219",
   "metadata": {},
   "outputs": [
    {
     "data": {
      "text/plain": [
       "array([0, 1, 2, 3, 4, 5, 6])"
      ]
     },
     "execution_count": 72,
     "metadata": {},
     "output_type": "execute_result"
    }
   ],
   "source": [
    "np.arange(7)"
   ]
  },
  {
   "cell_type": "code",
   "execution_count": 73,
   "id": "e57fe249-7a40-42fa-a72e-8de844f176ff",
   "metadata": {},
   "outputs": [
    {
     "data": {
      "text/plain": [
       "array([0, 1, 2, 3, 4, 5, 6])"
      ]
     },
     "execution_count": 73,
     "metadata": {},
     "output_type": "execute_result"
    }
   ],
   "source": [
    "np.arange(stop=7)"
   ]
  },
  {
   "cell_type": "code",
   "execution_count": 74,
   "id": "c1acf397-494d-4297-bfcc-a4a236693eb8",
   "metadata": {},
   "outputs": [
    {
     "data": {
      "text/plain": [
       "\u001b[0;31mDocstring:\u001b[0m\n",
       "arange([start,] stop[, step,], dtype=None, *, like=None)\n",
       "\n",
       "Return evenly spaced values within a given interval.\n",
       "\n",
       "``arange`` can be called with a varying number of positional arguments:\n",
       "\n",
       "* ``arange(stop)``: Values are generated within the half-open interval\n",
       "  ``[0, stop)`` (in other words, the interval including `start` but\n",
       "  excluding `stop`).\n",
       "* ``arange(start, stop)``: Values are generated within the half-open\n",
       "  interval ``[start, stop)``.\n",
       "* ``arange(start, stop, step)`` Values are generated within the half-open\n",
       "  interval ``[start, stop)``, with spacing between values given by\n",
       "  ``step``.\n",
       "\n",
       "For integer arguments the function is roughly equivalent to the Python\n",
       "built-in :py:class:`range`, but returns an ndarray rather than a ``range``\n",
       "instance.\n",
       "\n",
       "When using a non-integer step, such as 0.1, it is often better to use\n",
       "`numpy.linspace`.\n",
       "\n",
       "See the Warning sections below for more information.\n",
       "\n",
       "Parameters\n",
       "----------\n",
       "start : integer or real, optional\n",
       "    Start of interval.  The interval includes this value.  The default\n",
       "    start value is 0.\n",
       "stop : integer or real\n",
       "    End of interval.  The interval does not include this value, except\n",
       "    in some cases where `step` is not an integer and floating point\n",
       "    round-off affects the length of `out`.\n",
       "step : integer or real, optional\n",
       "    Spacing between values.  For any output `out`, this is the distance\n",
       "    between two adjacent values, ``out[i+1] - out[i]``.  The default\n",
       "    step size is 1.  If `step` is specified as a position argument,\n",
       "    `start` must also be given.\n",
       "dtype : dtype, optional\n",
       "    The type of the output array.  If `dtype` is not given, infer the data\n",
       "    type from the other input arguments.\n",
       "like : array_like, optional\n",
       "    Reference object to allow the creation of arrays which are not\n",
       "    NumPy arrays. If an array-like passed in as ``like`` supports\n",
       "    the ``__array_function__`` protocol, the result will be defined\n",
       "    by it. In this case, it ensures the creation of an array object\n",
       "    compatible with that passed in via this argument.\n",
       "\n",
       "    .. versionadded:: 1.20.0\n",
       "\n",
       "Returns\n",
       "-------\n",
       "arange : ndarray\n",
       "    Array of evenly spaced values.\n",
       "\n",
       "    For floating point arguments, the length of the result is\n",
       "    ``ceil((stop - start)/step)``.  Because of floating point overflow,\n",
       "    this rule may result in the last element of `out` being greater\n",
       "    than `stop`.\n",
       "\n",
       "Warnings\n",
       "--------\n",
       "The length of the output might not be numerically stable.\n",
       "\n",
       "Another stability issue is due to the internal implementation of\n",
       "`numpy.arange`.\n",
       "The actual step value used to populate the array is\n",
       "``dtype(start + step) - dtype(start)`` and not `step`. Precision loss\n",
       "can occur here, due to casting or due to using floating points when\n",
       "`start` is much larger than `step`. This can lead to unexpected\n",
       "behaviour. For example::\n",
       "\n",
       "  >>> np.arange(0, 5, 0.5, dtype=int)\n",
       "  array([0, 0, 0, 0, 0, 0, 0, 0, 0, 0])\n",
       "  >>> np.arange(-3, 3, 0.5, dtype=int)\n",
       "  array([-3, -2, -1,  0,  1,  2,  3,  4,  5,  6,  7,  8])\n",
       "\n",
       "In such cases, the use of `numpy.linspace` should be preferred.\n",
       "\n",
       "The built-in :py:class:`range` generates :std:doc:`Python built-in integers\n",
       "that have arbitrary size <python:c-api/long>`, while `numpy.arange`\n",
       "produces `numpy.int32` or `numpy.int64` numbers. This may result in\n",
       "incorrect results for large integer values::\n",
       "\n",
       "  >>> power = 40\n",
       "  >>> modulo = 10000\n",
       "  >>> x1 = [(n ** power) % modulo for n in range(8)]\n",
       "  >>> x2 = [(n ** power) % modulo for n in np.arange(8)]\n",
       "  >>> print(x1)\n",
       "  [0, 1, 7776, 8801, 6176, 625, 6576, 4001]  # correct\n",
       "  >>> print(x2)\n",
       "  [0, 1, 7776, 7185, 0, 5969, 4816, 3361]  # incorrect\n",
       "\n",
       "See Also\n",
       "--------\n",
       "numpy.linspace : Evenly spaced numbers with careful handling of endpoints.\n",
       "numpy.ogrid: Arrays of evenly spaced numbers in N-dimensions.\n",
       "numpy.mgrid: Grid-shaped arrays of evenly spaced numbers in N-dimensions.\n",
       ":ref:`how-to-partition`\n",
       "\n",
       "Examples\n",
       "--------\n",
       ">>> np.arange(3)\n",
       "array([0, 1, 2])\n",
       ">>> np.arange(3.0)\n",
       "array([ 0.,  1.,  2.])\n",
       ">>> np.arange(3,7)\n",
       "array([3, 4, 5, 6])\n",
       ">>> np.arange(3,7,2)\n",
       "array([3, 5])\n",
       "\u001b[0;31mType:\u001b[0m      builtin_function_or_method"
      ]
     },
     "metadata": {},
     "output_type": "display_data"
    }
   ],
   "source": [
    "np.arange?"
   ]
  },
  {
   "cell_type": "code",
   "execution_count": 75,
   "id": "bc3ba725-44c2-4ae2-9f16-61d2aa44834e",
   "metadata": {},
   "outputs": [
    {
     "data": {
      "text/plain": [
       "array([0, 3, 6])"
      ]
     },
     "execution_count": 75,
     "metadata": {},
     "output_type": "execute_result"
    }
   ],
   "source": [
    "np.arange(start=0, stop=7, step=3)"
   ]
  },
  {
   "cell_type": "code",
   "execution_count": 76,
   "id": "4e96513b-7fd2-48b1-b41d-ee07f404a873",
   "metadata": {},
   "outputs": [
    {
     "data": {
      "text/plain": [
       "array([ 5,  6,  7,  8,  9, 10])"
      ]
     },
     "execution_count": 76,
     "metadata": {},
     "output_type": "execute_result"
    }
   ],
   "source": [
    "np.arange(5, 11)"
   ]
  },
  {
   "cell_type": "code",
   "execution_count": 77,
   "id": "df30e28a-d82c-453b-85ff-ce9ec3839e45",
   "metadata": {},
   "outputs": [
    {
     "data": {
      "text/plain": [
       "array([ 0. ,  0.1,  0.2,  0.3,  0.4,  0.5,  0.6,  0.7,  0.8,  0.9])"
      ]
     },
     "execution_count": 77,
     "metadata": {},
     "output_type": "execute_result"
    }
   ],
   "source": [
    "np.arange(0, 1, 0.1)"
   ]
  },
  {
   "cell_type": "code",
   "execution_count": 78,
   "id": "ba5b3c41-4446-4ac7-8de2-c094b61a88ac",
   "metadata": {},
   "outputs": [
    {
     "data": {
      "text/plain": [
       "array([20, 18, 16, 14, 12, 10,  8,  6,  4,  2])"
      ]
     },
     "execution_count": 78,
     "metadata": {},
     "output_type": "execute_result"
    }
   ],
   "source": [
    "np.arange(20,0,-2)"
   ]
  }
 ],
 "metadata": {
  "kernelspec": {
   "display_name": "Python 3 (ipykernel)",
   "language": "python",
   "name": "python3"
  },
  "language_info": {
   "codemirror_mode": {
    "name": "ipython",
    "version": 3
   },
   "file_extension": ".py",
   "mimetype": "text/x-python",
   "name": "python",
   "nbconvert_exporter": "python",
   "pygments_lexer": "ipython3",
   "version": "3.11.11"
  }
 },
 "nbformat": 4,
 "nbformat_minor": 5
}
