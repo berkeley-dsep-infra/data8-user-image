{
 "cells": [
  {
   "cell_type": "code",
   "execution_count": 1,
   "id": "aacd60d3-a86a-47b0-847c-d8e63b63b6dd",
   "metadata": {},
   "outputs": [],
   "source": [
    "import numpy as np"
   ]
  },
  {
   "cell_type": "code",
   "execution_count": 2,
   "id": "741aed84-9f77-45f6-82f3-4ac21d2e921f",
   "metadata": {},
   "outputs": [],
   "source": [
    "import pandas as pd"
   ]
  },
  {
   "cell_type": "code",
   "execution_count": 3,
   "id": "5f845c4a-1396-48fa-a99a-7e68a9f02342",
   "metadata": {},
   "outputs": [],
   "source": [
    "import matplotlib.pyplot as plt"
   ]
  },
  {
   "cell_type": "code",
   "execution_count": 4,
   "id": "7041a26c-f692-441c-86bd-aedac33132cd",
   "metadata": {},
   "outputs": [],
   "source": [
    "import plotly"
   ]
  },
  {
   "cell_type": "code",
   "execution_count": 5,
   "id": "d00a2b4f-4801-4a1b-a0b9-a091fc276f84",
   "metadata": {},
   "outputs": [],
   "source": [
    "import os\n",
    "from nbconvert import HTMLExporter\n",
    "from nbconvert.preprocessors import ExecutePreprocessor\n",
    "from nbconvert import PDFExporter\n",
    "import subprocess"
   ]
  },
  {
   "cell_type": "code",
   "execution_count": 6,
   "id": "9b22c875-4b18-4562-8f7d-4de25e13f5a1",
   "metadata": {},
   "outputs": [],
   "source": [
    "notebooks_dir = \".\""
   ]
  },
  {
   "cell_type": "code",
   "execution_count": 7,
   "id": "1281bab1-c434-481c-871d-41caf15118a1",
   "metadata": {},
   "outputs": [
    {
     "name": "stdout",
     "output_type": "stream",
     "text": [
      "Successfully converted notebook to PDF\n"
     ]
    }
   ],
   "source": [
    "\n",
    "notebook_path = os.path.join(notebooks_dir, \"all_hub_basic_notebook.ipynb\")\n",
    "\n",
    "# Set the output PDF file path\n",
    "pdf_path = os.path.splitext(notebook_path)[0] + \".pdf\"\n",
    "\n",
    "try:\n",
    "    # Use subprocess to call nbconvert to generate the PDF\n",
    "    result = subprocess.run(\n",
    "        [\"jupyter\", \"nbconvert\", \"--to\", \"webpdf\", notebook_path],\n",
    "        capture_output=True,\n",
    "        text=True,\n",
    "    )\n",
    "\n",
    "    # Check if the conversion was successful\n",
    "    if result.returncode != 0:\n",
    "        raise Exception(f\"PDF conversion failed for {notebook}. Error: {result.stderr}\")\n",
    "\n",
    "    # Verify that the PDF file exists\n",
    "    if not os.path.exists(pdf_path):\n",
    "        raise FileNotFoundError(f\"PDF conversion did not create the expected file for {notebook}\")\n",
    "\n",
    "    print(f\"Successfully converted notebook to PDF\")\n",
    "\n",
    "except Exception as e:\n",
    "    print(f\"Error: {str(e)}\")\n",
    "    "
   ]
  },
  {
   "cell_type": "code",
   "execution_count": null,
   "id": "778dc866-1508-4212-b40d-42f01391abd0",
   "metadata": {},
   "outputs": [],
   "source": []
  }
 ],
 "metadata": {
  "kernelspec": {
   "display_name": "Python 3 (ipykernel)",
   "language": "python",
   "name": "python3"
  },
  "language_info": {
   "codemirror_mode": {
    "name": "ipython",
    "version": 3
   },
   "file_extension": ".py",
   "mimetype": "text/x-python",
   "name": "python",
   "nbconvert_exporter": "python",
   "pygments_lexer": "ipython3",
   "version": "3.11.11"
  }
 },
 "nbformat": 4,
 "nbformat_minor": 5
}
